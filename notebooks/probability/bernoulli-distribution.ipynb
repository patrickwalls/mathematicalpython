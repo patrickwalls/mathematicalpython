{
 "cells": [
  {
   "attachments": {},
   "cell_type": "markdown",
   "metadata": {},
   "source": [
    "# Bernoulli Distribution\n",
    "\n",
    "[Bernoulli distribution](https://en.wikipedia.org/wiki/Bernoulli_distribution) is a discrete probability distribution with two possible outcomes, 0 and 1. [Note: It is a special case of the [Binomial distribution](https://en.wikipedia.org/wiki/Binomial_distribution) with $n=1$.]\n"
   ]
  },
  {
   "cell_type": "code",
   "execution_count": null,
   "metadata": {},
   "outputs": [],
   "source": [
    "from scipy import stats\n",
    "\n",
    "# Create a random variable with a normal distribution\n",
    "bernrv = stats.bernoulli(0.5)"
   ]
  },
  {
   "attachments": {},
   "cell_type": "markdown",
   "metadata": {},
   "source": [
    "### Probability Mass Function (PMF)\n",
    "\n",
    "The probability mass function of the bernoulli distribution is given by:\n",
    "\n",
    "$$\n",
    "P(X=k) = p^k (1-p)^{1-k}\n",
    "$$\n",
    "\n",
    "where $k$ is the outcome, and $p$ is the probability of success."
   ]
  },
  {
   "cell_type": "code",
   "execution_count": null,
   "metadata": {},
   "outputs": [],
   "source": [
    "# Probability mass function (PMF)\n",
    "k = 0\n",
    "print(\"P(X = %d) = %.2f\" % (k, bernrv.pmf(k)))\n",
    "\n",
    "#Graphical representation of the PMF\n",
    "import matplotlib.pyplot as plt\n",
    "import numpy as np\n",
    "\n",
    "# Create a vector of 1000 values from 0 to 1\n",
    "x = np.arange(0, 1, 0.001)\n",
    "\n",
    "# Create a vector of the PMF values\n",
    "pmf = bernrv.pmf(x)\n",
    "\n",
    "# Plot the PMF\n",
    "plt.plot(x, pmf)\n",
    "\n",
    "# Label the axes\n",
    "plt.xlabel('x')\n",
    "plt.ylabel('P(X = x)')\n",
    "plt.show()"
   ]
  },
  {
   "attachments": {},
   "cell_type": "markdown",
   "metadata": {},
   "source": [
    "### Cumulative Distribution Function (CDF)\n",
    "\n",
    "The cumulative distribution function of the bernoulli distribution is given by:\n",
    "\n",
    "$$\n",
    "F(x) = \\begin{cases}\n",
    "0 & x < 0 \\\\\n",
    "1-p & 0 \\leq x < 1 \\\\\n",
    "1 & x \\geq 1\n",
    "\\end{cases}\n",
    "$$\n"
   ]
  },
  {
   "cell_type": "code",
   "execution_count": null,
   "metadata": {},
   "outputs": [],
   "source": [
    "# Cumulative distribution function (CDF)\n",
    "print(\"P(X <= %d) = %.2f\" % (k, bernrv.cdf(k)))\n",
    "\n",
    "#Graphical representation of the CDF\n",
    "# Create a vector of 1000 values from 0 to 1\n",
    "x = np.arange(0, 1, 0.001)\n",
    "\n",
    "# Create a vector of the CDF values\n",
    "cdf = bernrv.cdf(x)\n",
    "\n",
    "# Plot the CDF\n",
    "plt.plot(x, cdf)\n",
    "\n",
    "# Label the axes\n",
    "plt.xlabel('x')\n",
    "plt.ylabel('P(X <= x)')\n",
    "plt.show()"
   ]
  },
  {
   "attachments": {},
   "cell_type": "markdown",
   "metadata": {},
   "source": [
    "### The Expected Value ($ \\mu $)\n",
    "\n",
    "The expected value of the bernoulli distribution is given by:\n",
    "\n",
    "$$\n",
    "\\mu = E(X) = p\n",
    "$$"
   ]
  },
  {
   "cell_type": "code",
   "execution_count": null,
   "metadata": {},
   "outputs": [],
   "source": [
    "# Mean/Expected value\n",
    "print(\"E(X) = %.2f\" % bernrv.mean())"
   ]
  },
  {
   "attachments": {},
   "cell_type": "markdown",
   "metadata": {},
   "source": [
    "### The Variance ($ \\sigma^2 $)\n",
    "\n",
    "The variance of the bernoulli distribution is given by:\n",
    "\n",
    "$$\n",
    "\\sigma^2 = Var(X) = p(1-p)\n",
    "$$"
   ]
  },
  {
   "cell_type": "code",
   "execution_count": null,
   "metadata": {},
   "outputs": [],
   "source": [
    "# Variance\n",
    "print(\"Var(X) = %.2f\" % bernrv.var())"
   ]
  },
  {
   "attachments": {},
   "cell_type": "markdown",
   "metadata": {},
   "source": [
    "### The Standard Deviation ($ \\sigma $)\n",
    "\n",
    "The standard deviation of the bernoulli distribution is given by:\n",
    "\n",
    "$$\n",
    "\\sigma = \\sqrt{Var(X)} = \\sqrt{p(1-p)}\n",
    "$$"
   ]
  },
  {
   "cell_type": "code",
   "execution_count": null,
   "metadata": {},
   "outputs": [],
   "source": [
    "# Standard deviation\n",
    "print(\"Std(X) = %.2f\" % bernrv.std())"
   ]
  }
 ],
 "metadata": {
  "language_info": {
   "name": "python"
  },
  "orig_nbformat": 4
 },
 "nbformat": 4,
 "nbformat_minor": 2
}
