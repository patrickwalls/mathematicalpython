{
 "cells": [
  {
   "attachments": {},
   "cell_type": "markdown",
   "metadata": {},
   "source": [
    "# Binomial Distribution\n",
    "\n",
    "[Binomial Distribution](https://en.wikipedia.org/wiki/Binomial_distribution) is defined as the probability of getting exactly $k$ successes in $n$ trials, each with a probability of success $p$."
   ]
  },
  {
   "cell_type": "code",
   "execution_count": null,
   "metadata": {},
   "outputs": [],
   "source": [
    "from scipy import stats\n",
    "\n",
    "# Create a random variable with a normal distribution\n",
    "brv = stats.binom(10, 0.5) # Let brv be the number of heads of a fair coin (with 0.5 probability) in 10 tosses."
   ]
  },
  {
   "attachments": {},
   "cell_type": "markdown",
   "metadata": {},
   "source": [
    "### Probability Mass Function (PMF)\n",
    "\n",
    "The probability mass function of the binomial distribution is given by:\n",
    "\n",
    "$$P(X=k) = \\binom{n}{k}p^k(1-p)^{n-k}$$\n",
    "\n",
    "where $k$ is the number of successes, $n$ is the number of trials, and $p$ is the probability of success."
   ]
  },
  {
   "cell_type": "code",
   "execution_count": null,
   "metadata": {},
   "outputs": [],
   "source": [
    "# Probability mass function (PMF)\n",
    "print(\"The probability of getting 5 heads is: \", brv.pmf(5))"
   ]
  },
  {
   "attachments": {},
   "cell_type": "markdown",
   "metadata": {},
   "source": [
    "### Cumulative Distribution Function (CDF)\n",
    "\n",
    "The cumulative distribution function of the binomial distribution is given by:\n",
    "\n",
    "$$F(k) = \\sum_{i=0}^k \\binom{n}{i}p^i(1-p)^{n-i}$$\n",
    "\n",
    "where $k$ is the number of successes, $n$ is the number of trials, and $p$ is the probability of success."
   ]
  },
  {
   "cell_type": "code",
   "execution_count": null,
   "metadata": {},
   "outputs": [],
   "source": [
    "# Cumulative distribution function (CDF)\n",
    "print(\"The probability of getting 5 or less heads is: \", brv.cdf(5))"
   ]
  },
  {
   "attachments": {},
   "cell_type": "markdown",
   "metadata": {},
   "source": [
    "### The Expected Value ($ \\mu $)\n",
    "\n",
    "The expected value of the binomial distribution is given by:\n",
    "\n",
    "$$\\mu = np$$\n",
    "\n",
    "where $n$ is the number of trials and $p$ is the probability of success."
   ]
  },
  {
   "cell_type": "code",
   "execution_count": null,
   "metadata": {},
   "outputs": [],
   "source": [
    "# Mean/Expected value\n",
    "print(\"The expected value of the number of heads is: \", brv.mean())"
   ]
  },
  {
   "attachments": {},
   "cell_type": "markdown",
   "metadata": {},
   "source": [
    "### The Variance ($ \\sigma^2 $)\n",
    "\n",
    "The variance of the binomial distribution is given by:\n",
    "\n",
    "$$\\sigma^2 = np(1-p)$$\n",
    "\n",
    "where $n$ is the number of trials and $p$ is the probability of success."
   ]
  },
  {
   "cell_type": "code",
   "execution_count": null,
   "metadata": {},
   "outputs": [],
   "source": [
    "# Variance\n",
    "print(\"The variance of the number of heads is: \", brv.var())"
   ]
  },
  {
   "attachments": {},
   "cell_type": "markdown",
   "metadata": {},
   "source": [
    "### The Standard Deviation ($ \\sigma $)\n",
    "\n",
    "The standard deviation of the binomial distribution is given by:\n",
    "\n",
    "$$\\sigma = \\sqrt{np(1-p)}$$\n",
    "\n",
    "where $n$ is the number of trials and $p$ is the probability of success."
   ]
  },
  {
   "cell_type": "code",
   "execution_count": null,
   "metadata": {},
   "outputs": [],
   "source": [
    "# Standard deviation\n",
    "print(\"The standard deviation of the number of heads is: \", brv.std())"
   ]
  }
 ],
 "metadata": {
  "language_info": {
   "name": "python"
  },
  "orig_nbformat": 4
 },
 "nbformat": 4,
 "nbformat_minor": 2
}
