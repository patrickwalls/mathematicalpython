{
 "cells": [
  {
   "attachments": {},
   "cell_type": "markdown",
   "metadata": {},
   "source": [
    "# Poisson Distribution\n",
    "\n",
    "[Poison Distribution](https://en.wikipedia.org/wiki/Poisson_distribution) is a discrete probability distribution that expresses the probability of a given number of events occurring in a fixed interval of time and/or space if these events occur with a known constant rate and independently of the time since the last event. The Poisson distribution can also be used for the number of events in other specified intervals such as distance, area or volume."
   ]
  },
  {
   "cell_type": "code",
   "execution_count": null,
   "metadata": {},
   "outputs": [],
   "source": [
    "from scipy import stats\n",
    "\n",
    "# Poisson Distribution\n",
    "prv = stats.poisson(3) # Let prv be a Poisson random variable with mean 3"
   ]
  },
  {
   "attachments": {},
   "cell_type": "markdown",
   "metadata": {},
   "source": [
    "### Probability Mass Function (PMF)\n",
    "\n",
    "The probability mass function of the poisson distribution is given by:\n",
    "\n",
    "$$P(X=k) = \\frac{\\lambda^k e^{-\\lambda}}{k!}$$\n",
    "\n",
    "where $\\lambda$ is the rate parameter and $k$ is the number of events."
   ]
  },
  {
   "cell_type": "code",
   "execution_count": null,
   "metadata": {},
   "outputs": [],
   "source": [
    "# Probability mass function (PMF)\n",
    "print(\"The pmf of 3 successes is: \", prv.pmf(3))\n",
    "\n",
    "\n",
    "#Graphical representation of the PMF\n",
    "import matplotlib.pyplot as plt\n",
    "import numpy as np\n",
    "\n",
    "x = np.arange(0, 10, 1)\n",
    "y = prv.pmf(x)\n",
    "plt.plot(x, y, 'o-')\n",
    "plt.title('Poisson: $\\mu$ = %i' % 3)\n",
    "plt.xlabel('Number of successes')\n",
    "plt.ylabel('Probability of successes')\n",
    "plt.show()"
   ]
  },
  {
   "attachments": {},
   "cell_type": "markdown",
   "metadata": {},
   "source": [
    "### Cumulative Distribution Function (CDF)\n",
    "\n",
    "The cumulative distribution function of the poisson distribution is given by:\n",
    "\n",
    "$$F(k) = P(X \\leq k) = \\sum_{i=0}^k \\frac{\\lambda^i e^{-\\lambda}}{i!}$$\n",
    "\n",
    "where $\\lambda$ is the rate parameter and $k$ is the number of events."
   ]
  },
  {
   "cell_type": "code",
   "execution_count": null,
   "metadata": {},
   "outputs": [],
   "source": [
    "# Cumulative distribution function (CDF)\n",
    "print(\"The cdf of 3 successes is: \", prv.cdf(3))\n",
    "\n",
    "#Graphical representation of the CDF\n",
    "x = np.arange(0, 10, 1)\n",
    "y = prv.cdf(x)\n",
    "plt.plot(x, y, 'o-')\n",
    "plt.title('Poisson: $\\mu$ = %i' % 3)\n",
    "plt.xlabel('Number of successes')\n",
    "plt.ylabel('Probability of successes')\n",
    "plt.show()"
   ]
  },
  {
   "attachments": {},
   "cell_type": "markdown",
   "metadata": {},
   "source": [
    "### The Expected Value ($ \\mu $)\n",
    "\n",
    "The expected value of the poisson distribution is given by:\n",
    "\n",
    "$$\\mu = \\lambda$$\n",
    "\n",
    "where $\\lambda$ is the rate parameter."
   ]
  },
  {
   "cell_type": "code",
   "execution_count": null,
   "metadata": {},
   "outputs": [],
   "source": [
    "# Mean/Expected value\n",
    "print(\"The mean of the Poisson distribution is: \", prv.mean())"
   ]
  },
  {
   "attachments": {},
   "cell_type": "markdown",
   "metadata": {},
   "source": [
    "### The Variance ($ \\sigma^2 $)\n",
    "\n",
    "The variance of the poisson distribution is given by:\n",
    "\n",
    "$$\\sigma^2 = \\lambda$$\n",
    "\n",
    "where $\\lambda$ is the rate parameter."
   ]
  },
  {
   "cell_type": "code",
   "execution_count": null,
   "metadata": {},
   "outputs": [],
   "source": [
    "# Variance\n",
    "print(\"The variance of the Poisson distribution is: \", prv.var())"
   ]
  },
  {
   "attachments": {},
   "cell_type": "markdown",
   "metadata": {},
   "source": [
    "### The Standard Deviation ($ \\sigma $)\n",
    "\n",
    "The standard deviation of the poisson distribution is given by:\n",
    "\n",
    "$$\\sigma = \\sqrt{\\lambda}$$\n",
    "\n",
    "where $\\lambda$ is the rate parameter."
   ]
  },
  {
   "cell_type": "code",
   "execution_count": null,
   "metadata": {},
   "outputs": [],
   "source": [
    "# Standard deviation\n",
    "print(\"The standard deviation of the Poisson distribution is: \", prv.std())"
   ]
  }
 ],
 "metadata": {
  "language_info": {
   "name": "python"
  },
  "orig_nbformat": 4
 },
 "nbformat": 4,
 "nbformat_minor": 2
}
